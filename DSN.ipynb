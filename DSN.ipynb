{
 "cells": [
  {
   "cell_type": "code",
   "execution_count": 1,
   "metadata": {
    "colab": {
     "base_uri": "https://localhost:8080/",
     "height": 122
    },
    "colab_type": "code",
    "id": "guv39h9zG4RI",
    "outputId": "940c7bc4-0d54-4408-8c3d-f266345d2cab"
   },
   "outputs": [
    {
     "name": "stdout",
     "output_type": "stream",
     "text": [
      "Go to this URL in a browser: https://accounts.google.com/o/oauth2/auth?client_id=947318989803-6bn6qk8qdgf4n4g3pfee6491hc0brc4i.apps.googleusercontent.com&redirect_uri=urn%3Aietf%3Awg%3Aoauth%3A2.0%3Aoob&scope=email%20https%3A%2F%2Fwww.googleapis.com%2Fauth%2Fdocs.test%20https%3A%2F%2Fwww.googleapis.com%2Fauth%2Fdrive%20https%3A%2F%2Fwww.googleapis.com%2Fauth%2Fdrive.photos.readonly%20https%3A%2F%2Fwww.googleapis.com%2Fauth%2Fpeopleapi.readonly&response_type=code\n",
      "\n",
      "Enter your authorization code:\n",
      "··········\n",
      "Mounted at /content/drive\n"
     ]
    }
   ],
   "source": [
    "# Mount drive in dsn folder\n",
    "\n",
    "from google.colab import drive\n",
    "drive.mount('/content/drive')"
   ]
  },
  {
   "cell_type": "code",
   "execution_count": 2,
   "metadata": {
    "colab": {
     "base_uri": "https://localhost:8080/",
     "height": 68
    },
    "colab_type": "code",
    "id": "xEpBqVegIYV_",
    "outputId": "568e2dbd-3046-4eca-d075-afa35642609b"
   },
   "outputs": [
    {
     "name": "stdout",
     "output_type": "stream",
     "text": [
      "'dsn2019 (1).ipynb'   DSN.ipynb\t\t       test.csv\n",
      " dsn2019.ipynb\t      sample_submission2.csv   train.csv\n",
      "done...\n"
     ]
    }
   ],
   "source": [
    "# Check the dsn folder\n",
    "\n",
    "!ls '/content/drive/My Drive/dsn'\n",
    "\n",
    "print('done...')"
   ]
  },
  {
   "cell_type": "code",
   "execution_count": 3,
   "metadata": {
    "colab": {
     "base_uri": "https://localhost:8080/",
     "height": 34
    },
    "colab_type": "code",
    "id": "JQoIhW8AIjdr",
    "outputId": "ce919f5b-6aa8-4edb-cbe3-4d6dfa7514da"
   },
   "outputs": [
    {
     "name": "stdout",
     "output_type": "stream",
     "text": [
      "done...\n"
     ]
    }
   ],
   "source": [
    "# Import the libraries\n",
    "\n",
    "import numpy as np\n",
    "import pandas as pd\n",
    "from xgboost import XGBClassifier\n",
    "from sklearn.model_selection import train_test_split\n",
    "from sklearn.metrics import accuracy_score\n",
    "import matplotlib.pyplot as plt\n",
    "from sklearn.preprocessing import LabelBinarizer\n",
    "%matplotlib inline\n",
    "\n",
    "print('done...')"
   ]
  },
  {
   "cell_type": "code",
   "execution_count": 4,
   "metadata": {
    "colab": {
     "base_uri": "https://localhost:8080/",
     "height": 411
    },
    "colab_type": "code",
    "id": "pSeB66iCJ_VK",
    "outputId": "e4ef0c3d-aa1e-46cc-c553-a639579f5fa3"
   },
   "outputs": [
    {
     "data": {
      "text/html": [
       "<div>\n",
       "<style scoped>\n",
       "    .dataframe tbody tr th:only-of-type {\n",
       "        vertical-align: middle;\n",
       "    }\n",
       "\n",
       "    .dataframe tbody tr th {\n",
       "        vertical-align: top;\n",
       "    }\n",
       "\n",
       "    .dataframe thead th {\n",
       "        text-align: right;\n",
       "    }\n",
       "</style>\n",
       "<table border=\"1\" class=\"dataframe\">\n",
       "  <thead>\n",
       "    <tr style=\"text-align: right;\">\n",
       "      <th></th>\n",
       "      <th>EmployeeNo</th>\n",
       "      <th>Division</th>\n",
       "      <th>Qualification</th>\n",
       "      <th>Gender</th>\n",
       "      <th>Channel_of_Recruitment</th>\n",
       "      <th>Trainings_Attended</th>\n",
       "      <th>Year_of_birth</th>\n",
       "      <th>Last_performance_score</th>\n",
       "      <th>Year_of_recruitment</th>\n",
       "      <th>Targets_met</th>\n",
       "      <th>Previous_Award</th>\n",
       "      <th>Training_score_average</th>\n",
       "      <th>State_Of_Origin</th>\n",
       "      <th>Foreign_schooled</th>\n",
       "      <th>Marital_Status</th>\n",
       "      <th>Past_Disciplinary_Action</th>\n",
       "      <th>Previous_IntraDepartmental_Movement</th>\n",
       "      <th>No_of_previous_employers</th>\n",
       "      <th>Promoted_or_Not</th>\n",
       "    </tr>\n",
       "  </thead>\n",
       "  <tbody>\n",
       "    <tr>\n",
       "      <th>0</th>\n",
       "      <td>YAK/S/00001</td>\n",
       "      <td>Commercial Sales and Marketing</td>\n",
       "      <td>MSc, MBA and PhD</td>\n",
       "      <td>Female</td>\n",
       "      <td>Direct Internal process</td>\n",
       "      <td>2</td>\n",
       "      <td>1986</td>\n",
       "      <td>12.5</td>\n",
       "      <td>2011</td>\n",
       "      <td>1</td>\n",
       "      <td>0</td>\n",
       "      <td>41</td>\n",
       "      <td>ANAMBRA</td>\n",
       "      <td>No</td>\n",
       "      <td>Married</td>\n",
       "      <td>No</td>\n",
       "      <td>No</td>\n",
       "      <td>0</td>\n",
       "      <td>0</td>\n",
       "    </tr>\n",
       "    <tr>\n",
       "      <th>1</th>\n",
       "      <td>YAK/S/00002</td>\n",
       "      <td>Customer Support and Field Operations</td>\n",
       "      <td>First Degree or HND</td>\n",
       "      <td>Male</td>\n",
       "      <td>Agency and others</td>\n",
       "      <td>2</td>\n",
       "      <td>1991</td>\n",
       "      <td>12.5</td>\n",
       "      <td>2015</td>\n",
       "      <td>0</td>\n",
       "      <td>0</td>\n",
       "      <td>52</td>\n",
       "      <td>ANAMBRA</td>\n",
       "      <td>Yes</td>\n",
       "      <td>Married</td>\n",
       "      <td>No</td>\n",
       "      <td>No</td>\n",
       "      <td>0</td>\n",
       "      <td>0</td>\n",
       "    </tr>\n",
       "    <tr>\n",
       "      <th>2</th>\n",
       "      <td>YAK/S/00003</td>\n",
       "      <td>Commercial Sales and Marketing</td>\n",
       "      <td>First Degree or HND</td>\n",
       "      <td>Male</td>\n",
       "      <td>Direct Internal process</td>\n",
       "      <td>2</td>\n",
       "      <td>1987</td>\n",
       "      <td>7.5</td>\n",
       "      <td>2012</td>\n",
       "      <td>0</td>\n",
       "      <td>0</td>\n",
       "      <td>42</td>\n",
       "      <td>KATSINA</td>\n",
       "      <td>Yes</td>\n",
       "      <td>Married</td>\n",
       "      <td>No</td>\n",
       "      <td>No</td>\n",
       "      <td>0</td>\n",
       "      <td>0</td>\n",
       "    </tr>\n",
       "    <tr>\n",
       "      <th>3</th>\n",
       "      <td>YAK/S/00004</td>\n",
       "      <td>Commercial Sales and Marketing</td>\n",
       "      <td>First Degree or HND</td>\n",
       "      <td>Male</td>\n",
       "      <td>Agency and others</td>\n",
       "      <td>3</td>\n",
       "      <td>1982</td>\n",
       "      <td>2.5</td>\n",
       "      <td>2009</td>\n",
       "      <td>0</td>\n",
       "      <td>0</td>\n",
       "      <td>42</td>\n",
       "      <td>NIGER</td>\n",
       "      <td>Yes</td>\n",
       "      <td>Single</td>\n",
       "      <td>No</td>\n",
       "      <td>No</td>\n",
       "      <td>1</td>\n",
       "      <td>0</td>\n",
       "    </tr>\n",
       "    <tr>\n",
       "      <th>4</th>\n",
       "      <td>YAK/S/00006</td>\n",
       "      <td>Information and Strategy</td>\n",
       "      <td>First Degree or HND</td>\n",
       "      <td>Male</td>\n",
       "      <td>Direct Internal process</td>\n",
       "      <td>3</td>\n",
       "      <td>1990</td>\n",
       "      <td>7.5</td>\n",
       "      <td>2012</td>\n",
       "      <td>0</td>\n",
       "      <td>0</td>\n",
       "      <td>77</td>\n",
       "      <td>AKWA IBOM</td>\n",
       "      <td>Yes</td>\n",
       "      <td>Married</td>\n",
       "      <td>No</td>\n",
       "      <td>No</td>\n",
       "      <td>1</td>\n",
       "      <td>0</td>\n",
       "    </tr>\n",
       "  </tbody>\n",
       "</table>\n",
       "</div>"
      ],
      "text/plain": [
       "    EmployeeNo  ... Promoted_or_Not\n",
       "0  YAK/S/00001  ...               0\n",
       "1  YAK/S/00002  ...               0\n",
       "2  YAK/S/00003  ...               0\n",
       "3  YAK/S/00004  ...               0\n",
       "4  YAK/S/00006  ...               0\n",
       "\n",
       "[5 rows x 19 columns]"
      ]
     },
     "execution_count": 4,
     "metadata": {
      "tags": []
     },
     "output_type": "execute_result"
    }
   ],
   "source": [
    "# Read in the dataset and preview it\n",
    "full_dataset=pd.read_csv(\"/content/drive/My Drive/dsn/train.csv\")\n",
    "full_dataset.head()"
   ]
  },
  {
   "cell_type": "markdown",
   "metadata": {
    "colab_type": "text",
    "id": "pvmNx2T45NSL"
   },
   "source": [
    "## Slight Exploratory Data Analysis Plus comments"
   ]
  },
  {
   "cell_type": "code",
   "execution_count": 5,
   "metadata": {
    "colab": {
     "base_uri": "https://localhost:8080/",
     "height": 425
    },
    "colab_type": "code",
    "id": "VGQQfkh1eVth",
    "outputId": "abb6b548-c593-4101-fc14-89e46213031f"
   },
   "outputs": [
    {
     "name": "stdout",
     "output_type": "stream",
     "text": [
      "<class 'pandas.core.frame.DataFrame'>\n",
      "RangeIndex: 38312 entries, 0 to 38311\n",
      "Data columns (total 19 columns):\n",
      "EmployeeNo                             38312 non-null object\n",
      "Division                               38312 non-null object\n",
      "Qualification                          36633 non-null object\n",
      "Gender                                 38312 non-null object\n",
      "Channel_of_Recruitment                 38312 non-null object\n",
      "Trainings_Attended                     38312 non-null int64\n",
      "Year_of_birth                          38312 non-null int64\n",
      "Last_performance_score                 38312 non-null float64\n",
      "Year_of_recruitment                    38312 non-null int64\n",
      "Targets_met                            38312 non-null int64\n",
      "Previous_Award                         38312 non-null int64\n",
      "Training_score_average                 38312 non-null int64\n",
      "State_Of_Origin                        38312 non-null object\n",
      "Foreign_schooled                       38312 non-null object\n",
      "Marital_Status                         38312 non-null object\n",
      "Past_Disciplinary_Action               38312 non-null object\n",
      "Previous_IntraDepartmental_Movement    38312 non-null object\n",
      "No_of_previous_employers               38312 non-null object\n",
      "Promoted_or_Not                        38312 non-null int64\n",
      "dtypes: float64(1), int64(7), object(11)\n",
      "memory usage: 5.6+ MB\n"
     ]
    }
   ],
   "source": [
    "# Get a general feel of the data\n",
    "full_dataset.info()\n",
    "# Note that the 'qualification' has some missing data"
   ]
  },
  {
   "cell_type": "code",
   "execution_count": 6,
   "metadata": {
    "colab": {
     "base_uri": "https://localhost:8080/",
     "height": 1000
    },
    "colab_type": "code",
    "id": "0EfZDvNCedYi",
    "outputId": "5127d37a-2388-4621-8cee-eedaedfff235"
   },
   "outputs": [
    {
     "data": {
      "text/plain": [
       "array([[<matplotlib.axes._subplots.AxesSubplot object at 0x7fa6f5da0ba8>,\n",
       "        <matplotlib.axes._subplots.AxesSubplot object at 0x7fa6f5cf4c88>,\n",
       "        <matplotlib.axes._subplots.AxesSubplot object at 0x7fa6f5d28048>],\n",
       "       [<matplotlib.axes._subplots.AxesSubplot object at 0x7fa6f5cd15c0>,\n",
       "        <matplotlib.axes._subplots.AxesSubplot object at 0x7fa6f5c77b38>,\n",
       "        <matplotlib.axes._subplots.AxesSubplot object at 0x7fa6f5ca90f0>],\n",
       "       [<matplotlib.axes._subplots.AxesSubplot object at 0x7fa6f5c51668>,\n",
       "        <matplotlib.axes._subplots.AxesSubplot object at 0x7fa6f5bf8c18>,\n",
       "        <matplotlib.axes._subplots.AxesSubplot object at 0x7fa6f5bf8c50>]],\n",
       "      dtype=object)"
      ]
     },
     "execution_count": 6,
     "metadata": {
      "tags": []
     },
     "output_type": "execute_result"
    },
    {
     "data": {
      "image/png": "[encoded data removed]",
      "text/plain": [
       "<Figure size 2160x1800 with 9 Axes>"
      ]
     },
     "metadata": {
      "tags": []
     },
     "output_type": "display_data"
    }
   ],
   "source": [
    "# visualise the buckets to see the distribution of the numerical data\n",
    "full_dataset.hist(bins=50,figsize=(30,25))\n",
    "# side-note convert the ages to respective buckets, there is an outlier that is older than 1960"
   ]
  },
  {
   "cell_type": "code",
   "execution_count": 7,
   "metadata": {
    "colab": {
     "base_uri": "https://localhost:8080/",
     "height": 297
    },
    "colab_type": "code",
    "id": "iF4Nfs6n4qqW",
    "outputId": "4323c490-f297-4d79-bd72-9b86a3897e72"
   },
   "outputs": [
    {
     "data": {
      "text/html": [
       "<div>\n",
       "<style scoped>\n",
       "    .dataframe tbody tr th:only-of-type {\n",
       "        vertical-align: middle;\n",
       "    }\n",
       "\n",
       "    .dataframe tbody tr th {\n",
       "        vertical-align: top;\n",
       "    }\n",
       "\n",
       "    .dataframe thead th {\n",
       "        text-align: right;\n",
       "    }\n",
       "</style>\n",
       "<table border=\"1\" class=\"dataframe\">\n",
       "  <thead>\n",
       "    <tr style=\"text-align: right;\">\n",
       "      <th></th>\n",
       "      <th>count</th>\n",
       "      <th>mean</th>\n",
       "      <th>std</th>\n",
       "      <th>min</th>\n",
       "      <th>25%</th>\n",
       "      <th>50%</th>\n",
       "      <th>75%</th>\n",
       "      <th>max</th>\n",
       "    </tr>\n",
       "  </thead>\n",
       "  <tbody>\n",
       "    <tr>\n",
       "      <th>Trainings_Attended</th>\n",
       "      <td>38312.0</td>\n",
       "      <td>2.253680</td>\n",
       "      <td>0.609443</td>\n",
       "      <td>2.0</td>\n",
       "      <td>2.0</td>\n",
       "      <td>2.0</td>\n",
       "      <td>2.0</td>\n",
       "      <td>11.0</td>\n",
       "    </tr>\n",
       "    <tr>\n",
       "      <th>Year_of_birth</th>\n",
       "      <td>38312.0</td>\n",
       "      <td>1986.209334</td>\n",
       "      <td>7.646047</td>\n",
       "      <td>1950.0</td>\n",
       "      <td>1982.0</td>\n",
       "      <td>1988.0</td>\n",
       "      <td>1992.0</td>\n",
       "      <td>2001.0</td>\n",
       "    </tr>\n",
       "    <tr>\n",
       "      <th>Last_performance_score</th>\n",
       "      <td>38312.0</td>\n",
       "      <td>7.698959</td>\n",
       "      <td>3.744135</td>\n",
       "      <td>0.0</td>\n",
       "      <td>5.0</td>\n",
       "      <td>7.5</td>\n",
       "      <td>10.0</td>\n",
       "      <td>12.5</td>\n",
       "    </tr>\n",
       "    <tr>\n",
       "      <th>Year_of_recruitment</th>\n",
       "      <td>38312.0</td>\n",
       "      <td>2013.139695</td>\n",
       "      <td>4.261451</td>\n",
       "      <td>1982.0</td>\n",
       "      <td>2012.0</td>\n",
       "      <td>2014.0</td>\n",
       "      <td>2016.0</td>\n",
       "      <td>2018.0</td>\n",
       "    </tr>\n",
       "    <tr>\n",
       "      <th>Targets_met</th>\n",
       "      <td>38312.0</td>\n",
       "      <td>0.352996</td>\n",
       "      <td>0.477908</td>\n",
       "      <td>0.0</td>\n",
       "      <td>0.0</td>\n",
       "      <td>0.0</td>\n",
       "      <td>1.0</td>\n",
       "      <td>1.0</td>\n",
       "    </tr>\n",
       "    <tr>\n",
       "      <th>Previous_Award</th>\n",
       "      <td>38312.0</td>\n",
       "      <td>0.023152</td>\n",
       "      <td>0.150388</td>\n",
       "      <td>0.0</td>\n",
       "      <td>0.0</td>\n",
       "      <td>0.0</td>\n",
       "      <td>0.0</td>\n",
       "      <td>1.0</td>\n",
       "    </tr>\n",
       "    <tr>\n",
       "      <th>Training_score_average</th>\n",
       "      <td>38312.0</td>\n",
       "      <td>55.366465</td>\n",
       "      <td>13.362741</td>\n",
       "      <td>31.0</td>\n",
       "      <td>43.0</td>\n",
       "      <td>52.0</td>\n",
       "      <td>68.0</td>\n",
       "      <td>91.0</td>\n",
       "    </tr>\n",
       "    <tr>\n",
       "      <th>Promoted_or_Not</th>\n",
       "      <td>38312.0</td>\n",
       "      <td>0.084595</td>\n",
       "      <td>0.278282</td>\n",
       "      <td>0.0</td>\n",
       "      <td>0.0</td>\n",
       "      <td>0.0</td>\n",
       "      <td>0.0</td>\n",
       "      <td>1.0</td>\n",
       "    </tr>\n",
       "  </tbody>\n",
       "</table>\n",
       "</div>"
      ],
      "text/plain": [
       "                          count         mean        std  ...     50%     75%     max\n",
       "Trainings_Attended      38312.0     2.253680   0.609443  ...     2.0     2.0    11.0\n",
       "Year_of_birth           38312.0  1986.209334   7.646047  ...  1988.0  1992.0  2001.0\n",
       "Last_performance_score  38312.0     7.698959   3.744135  ...     7.5    10.0    12.5\n",
       "Year_of_recruitment     38312.0  2013.139695   4.261451  ...  2014.0  2016.0  2018.0\n",
       "Targets_met             38312.0     0.352996   0.477908  ...     0.0     1.0     1.0\n",
       "Previous_Award          38312.0     0.023152   0.150388  ...     0.0     0.0     1.0\n",
       "Training_score_average  38312.0    55.366465  13.362741  ...    52.0    68.0    91.0\n",
       "Promoted_or_Not         38312.0     0.084595   0.278282  ...     0.0     0.0     1.0\n",
       "\n",
       "[8 rows x 8 columns]"
      ]
     },
     "execution_count": 7,
     "metadata": {
      "tags": []
     },
     "output_type": "execute_result"
    }
   ],
   "source": [
    "# get a top-bottom statistical insight into the entire dataset\n",
    "full_dataset.describe().T"
   ]
  },
  {
   "cell_type": "code",
   "execution_count": 8,
   "metadata": {
    "colab": {
     "base_uri": "https://localhost:8080/",
     "height": 34
    },
    "colab_type": "code",
    "id": "J3G7u7A94t-k",
    "outputId": "64318368-ac4a-4c8d-d450-e0f540d766fc"
   },
   "outputs": [
    {
     "data": {
      "text/plain": [
       "12"
      ]
     },
     "execution_count": 8,
     "metadata": {
      "tags": []
     },
     "output_type": "execute_result"
    }
   ],
   "source": [
    "# check out the people who were born before 1960, since they are so few(12), we then turn them into category \"people < 1960\"\n",
    "# the age is also normally distributed/slightly tail heavy,so there is no need for much transformation.\n",
    "full_dataset[full_dataset['Year_of_birth']<1960].shape[0]\n",
    "# min 1950   max 2001"
   ]
  },
  {
   "cell_type": "code",
   "execution_count": 0,
   "metadata": {
    "colab": {},
    "colab_type": "code",
    "id": "ohS_inHp4xrr"
   },
   "outputs": [],
   "source": [
    "# the year_of_recruitment is also all over the place, so it would make more sense to turn it into years spent at company\n",
    "# then convert it to a categorical variable\n",
    "# training_score_average is pretty good enough as is , so i really am better off leaving it as it is"
   ]
  },
  {
   "cell_type": "code",
   "execution_count": 10,
   "metadata": {
    "colab": {
     "base_uri": "https://localhost:8080/",
     "height": 153
    },
    "colab_type": "code",
    "id": "lkgxcHqu5AB0",
    "outputId": "eb62f15c-a7ca-4a6e-f94a-5778462c8998"
   },
   "outputs": [
    {
     "data": {
      "text/plain": [
       "1              18867\n",
       "0              13272\n",
       "2               1918\n",
       "3               1587\n",
       "4               1324\n",
       "5                943\n",
       "More than 5      401\n",
       "Name: No_of_previous_employers, dtype: int64"
      ]
     },
     "execution_count": 10,
     "metadata": {
      "tags": []
     },
     "output_type": "execute_result"
    }
   ],
   "source": [
    "full_dataset['No_of_previous_employers'].value_counts()"
   ]
  },
  {
   "cell_type": "markdown",
   "metadata": {
    "colab_type": "text",
    "id": "XY62PQ4d5W8r"
   },
   "source": [
    "## Indepth Exploratory data analysis and Sidenotes"
   ]
  },
  {
   "cell_type": "code",
   "execution_count": 11,
   "metadata": {
    "colab": {
     "base_uri": "https://localhost:8080/",
     "height": 216
    },
    "colab_type": "code",
    "id": "dJvb-NfU5BXk",
    "outputId": "6b4f66f7-8514-487e-d319-4084dca758a0"
   },
   "outputs": [
    {
     "data": {
      "text/html": [
       "<div>\n",
       "<style scoped>\n",
       "    .dataframe tbody tr th:only-of-type {\n",
       "        vertical-align: middle;\n",
       "    }\n",
       "\n",
       "    .dataframe tbody tr th {\n",
       "        vertical-align: top;\n",
       "    }\n",
       "\n",
       "    .dataframe thead th {\n",
       "        text-align: right;\n",
       "    }\n",
       "</style>\n",
       "<table border=\"1\" class=\"dataframe\">\n",
       "  <thead>\n",
       "    <tr style=\"text-align: right;\">\n",
       "      <th></th>\n",
       "      <th>EmployeeNo</th>\n",
       "      <th>Division</th>\n",
       "      <th>Qualification</th>\n",
       "      <th>Gender</th>\n",
       "      <th>Channel_of_Recruitment</th>\n",
       "      <th>Trainings_Attended</th>\n",
       "      <th>Year_of_birth</th>\n",
       "      <th>Last_performance_score</th>\n",
       "      <th>Year_of_recruitment</th>\n",
       "      <th>Targets_met</th>\n",
       "      <th>Previous_Award</th>\n",
       "      <th>Training_score_average</th>\n",
       "      <th>State_Of_Origin</th>\n",
       "      <th>Foreign_schooled</th>\n",
       "      <th>Marital_Status</th>\n",
       "      <th>Past_Disciplinary_Action</th>\n",
       "      <th>Previous_IntraDepartmental_Movement</th>\n",
       "      <th>No_of_previous_employers</th>\n",
       "      <th>Promoted_or_Not</th>\n",
       "    </tr>\n",
       "  </thead>\n",
       "  <tbody>\n",
       "    <tr>\n",
       "      <th>0</th>\n",
       "      <td>YAK/S/00001</td>\n",
       "      <td>Commercial Sales and Marketing</td>\n",
       "      <td>MSc, MBA and PhD</td>\n",
       "      <td>Female</td>\n",
       "      <td>Direct Internal process</td>\n",
       "      <td>2</td>\n",
       "      <td>1986</td>\n",
       "      <td>12.5</td>\n",
       "      <td>2011</td>\n",
       "      <td>1</td>\n",
       "      <td>0</td>\n",
       "      <td>41</td>\n",
       "      <td>ANAMBRA</td>\n",
       "      <td>No</td>\n",
       "      <td>Married</td>\n",
       "      <td>No</td>\n",
       "      <td>No</td>\n",
       "      <td>0</td>\n",
       "      <td>0</td>\n",
       "    </tr>\n",
       "    <tr>\n",
       "      <th>1</th>\n",
       "      <td>YAK/S/00002</td>\n",
       "      <td>Customer Support and Field Operations</td>\n",
       "      <td>First Degree or HND</td>\n",
       "      <td>Male</td>\n",
       "      <td>Agency and others</td>\n",
       "      <td>2</td>\n",
       "      <td>1991</td>\n",
       "      <td>12.5</td>\n",
       "      <td>2015</td>\n",
       "      <td>0</td>\n",
       "      <td>0</td>\n",
       "      <td>52</td>\n",
       "      <td>ANAMBRA</td>\n",
       "      <td>Yes</td>\n",
       "      <td>Married</td>\n",
       "      <td>No</td>\n",
       "      <td>No</td>\n",
       "      <td>0</td>\n",
       "      <td>0</td>\n",
       "    </tr>\n",
       "  </tbody>\n",
       "</table>\n",
       "</div>"
      ],
      "text/plain": [
       "    EmployeeNo  ... Promoted_or_Not\n",
       "0  YAK/S/00001  ...               0\n",
       "1  YAK/S/00002  ...               0\n",
       "\n",
       "[2 rows x 19 columns]"
      ]
     },
     "execution_count": 11,
     "metadata": {
      "tags": []
     },
     "output_type": "execute_result"
    }
   ],
   "source": [
    "full_dataset.head(2)"
   ]
  },
  {
   "cell_type": "code",
   "execution_count": 12,
   "metadata": {
    "colab": {
     "base_uri": "https://localhost:8080/",
     "height": 85
    },
    "colab_type": "code",
    "id": "udgZdCo45baV",
    "outputId": "f86d1015-2d75-4f09-e64e-97c9bba4d93f"
   },
   "outputs": [
    {
     "data": {
      "text/plain": [
       "Married     31022\n",
       "Single       6927\n",
       "Not_Sure      363\n",
       "Name: Marital_Status, dtype: int64"
      ]
     },
     "execution_count": 12,
     "metadata": {
      "tags": []
     },
     "output_type": "execute_result"
    }
   ],
   "source": [
    "full_dataset['Marital_Status'].value_counts()\n",
    "# turn any not-sure into Single to prevent our algorithm from learning garbage"
   ]
  },
  {
   "cell_type": "code",
   "execution_count": 13,
   "metadata": {
    "colab": {
     "base_uri": "https://localhost:8080/",
     "height": 85
    },
    "colab_type": "code",
    "id": "cRG381VX5efO",
    "outputId": "d6f13785-7081-4580-e698-18836295f5ec"
   },
   "outputs": [
    {
     "data": {
      "text/plain": [
       "Married     31022\n",
       "Single       6927\n",
       "Not_Sure      363\n",
       "Name: Marital_Status, dtype: int64"
      ]
     },
     "execution_count": 13,
     "metadata": {
      "tags": []
     },
     "output_type": "execute_result"
    }
   ],
   "source": [
    "full_dataset['Marital_Status'].value_counts()\n",
    "# turn any not-sure into Single to prevent our algorithm from learning garbage"
   ]
  },
  {
   "cell_type": "code",
   "execution_count": 14,
   "metadata": {
    "colab": {
     "base_uri": "https://localhost:8080/",
     "height": 204
    },
    "colab_type": "code",
    "id": "0HKI5gtc5iVQ",
    "outputId": "a4cd55fd-5936-48be-bbe8-68b22dc44b36"
   },
   "outputs": [
    {
     "data": {
      "text/plain": [
       "2     30981\n",
       "3      5631\n",
       "4      1244\n",
       "5       316\n",
       "6        93\n",
       "7        28\n",
       "8         6\n",
       "10        5\n",
       "11        4\n",
       "9         4\n",
       "Name: Trainings_Attended, dtype: int64"
      ]
     },
     "execution_count": 14,
     "metadata": {
      "tags": []
     },
     "output_type": "execute_result"
    }
   ],
   "source": [
    "full_dataset['Trainings_Attended'].value_counts()\n",
    "# since greater than 5 training is pretty few, i should consider making it anything>5 = 5"
   ]
  },
  {
   "cell_type": "code",
   "execution_count": 15,
   "metadata": {
    "colab": {
     "base_uri": "https://localhost:8080/",
     "height": 85
    },
    "colab_type": "code",
    "id": "3RZTUZrW5maA",
    "outputId": "9729147e-48f6-4477-b1df-ab1c4bd367ad"
   },
   "outputs": [
    {
     "data": {
      "text/plain": [
       "Agency and others                  21310\n",
       "Direct Internal process            16194\n",
       "Referral and Special candidates      808\n",
       "Name: Channel_of_Recruitment, dtype: int64"
      ]
     },
     "execution_count": 15,
     "metadata": {
      "tags": []
     },
     "output_type": "execute_result"
    }
   ],
   "source": [
    "full_dataset['Channel_of_Recruitment'].value_counts()\n",
    "# nothing here too. we just categorically encode them"
   ]
  },
  {
   "cell_type": "code",
   "execution_count": 16,
   "metadata": {
    "colab": {
     "base_uri": "https://localhost:8080/",
     "height": 68
    },
    "colab_type": "code",
    "id": "jouquWur5p_Q",
    "outputId": "b9a16f2b-3b83-42c5-c92c-c7ba888fbe67"
   },
   "outputs": [
    {
     "data": {
      "text/plain": [
       "Male      26880\n",
       "Female    11432\n",
       "Name: Gender, dtype: int64"
      ]
     },
     "execution_count": 16,
     "metadata": {
      "tags": []
     },
     "output_type": "execute_result"
    }
   ],
   "source": [
    "full_dataset['Gender'].value_counts()\n",
    "# genders are fair, i guess. nothing much to see here, we just simply categorically encode it"
   ]
  },
  {
   "cell_type": "code",
   "execution_count": 17,
   "metadata": {
    "colab": {
     "base_uri": "https://localhost:8080/",
     "height": 85
    },
    "colab_type": "code",
    "id": "8NnrUK-H5th7",
    "outputId": "b105f321-ee92-4f4a-e7c7-0fc906616e91"
   },
   "outputs": [
    {
     "data": {
      "text/plain": [
       "First Degree or HND         25578\n",
       "MSc, MBA and PhD            10469\n",
       "Non-University Education      586\n",
       "Name: Qualification, dtype: int64"
      ]
     },
     "execution_count": 17,
     "metadata": {
      "tags": []
     },
     "output_type": "execute_result"
    }
   ],
   "source": [
    "full_dataset['Qualification'].value_counts()\n",
    "# this seems pretty distributed too, but we categorically encode them wrt their level 3,2,1\n",
    "# fill in missing values with Non-University Education"
   ]
  },
  {
   "cell_type": "code",
   "execution_count": 18,
   "metadata": {
    "colab": {
     "base_uri": "https://localhost:8080/",
     "height": 187
    },
    "colab_type": "code",
    "id": "8BdrjetY5xui",
    "outputId": "7f502e06-b8aa-461e-8df7-6872eb5e0dd7"
   },
   "outputs": [
    {
     "data": {
      "text/plain": [
       "Commercial Sales and Marketing                 11695\n",
       "Customer Support and Field Operations           7973\n",
       "Sourcing and Purchasing                         5052\n",
       "Information Technology and Solution Support     4952\n",
       "Information and Strategy                        3721\n",
       "Business Finance Operations                     1786\n",
       "People/HR Management                            1704\n",
       "Regulatory and Legal services                    733\n",
       "Research and Innovation                          696\n",
       "Name: Division, dtype: int64"
      ]
     },
     "execution_count": 18,
     "metadata": {
      "tags": []
     },
     "output_type": "execute_result"
    }
   ],
   "source": [
    "full_dataset['Division'].value_counts()\n",
    "# pretty well distributed, no further engineering needed, simply categorically encoding them"
   ]
  },
  {
   "cell_type": "code",
   "execution_count": 19,
   "metadata": {
    "colab": {
     "base_uri": "https://localhost:8080/",
     "height": 340
    },
    "colab_type": "code",
    "id": "-JM5pfN651Kz",
    "outputId": "19249d15-5be9-4d87-be46-b8285a0fe292"
   },
   "outputs": [
    {
     "data": {
      "text/plain": [
       "['EmployeeNo',\n",
       " 'Division',\n",
       " 'Qualification',\n",
       " 'Gender',\n",
       " 'Channel_of_Recruitment',\n",
       " 'Trainings_Attended',\n",
       " 'Year_of_birth',\n",
       " 'Last_performance_score',\n",
       " 'Year_of_recruitment',\n",
       " 'Targets_met',\n",
       " 'Previous_Award',\n",
       " 'Training_score_average',\n",
       " 'State_Of_Origin',\n",
       " 'Foreign_schooled',\n",
       " 'Marital_Status',\n",
       " 'Past_Disciplinary_Action',\n",
       " 'Previous_IntraDepartmental_Movement',\n",
       " 'No_of_previous_employers',\n",
       " 'Promoted_or_Not']"
      ]
     },
     "execution_count": 19,
     "metadata": {
      "tags": []
     },
     "output_type": "execute_result"
    }
   ],
   "source": [
    "list(full_dataset)"
   ]
  },
  {
   "cell_type": "markdown",
   "metadata": {
    "colab_type": "text",
    "id": "4TDHb1jP5-76"
   },
   "source": [
    "## Data Spliting"
   ]
  },
  {
   "cell_type": "markdown",
   "metadata": {
    "colab_type": "text",
    "id": "PR1Mu8eW6BmJ"
   },
   "source": [
    "#### Split into Train,Testing and validation set (60%,25%,15%)"
   ]
  },
  {
   "cell_type": "code",
   "execution_count": 20,
   "metadata": {
    "colab": {
     "base_uri": "https://localhost:8080/",
     "height": 34
    },
    "colab_type": "code",
    "id": "oY8xrHfq6IRp",
    "outputId": "58dea1f6-e0f3-4f43-8d26-4c6b3a00ba8a"
   },
   "outputs": [
    {
     "name": "stdout",
     "output_type": "stream",
     "text": [
      "done...\n"
     ]
    }
   ],
   "source": [
    "X=full_dataset.drop(['Promoted_or_Not'],1)\n",
    "y=full_dataset['Promoted_or_Not']\n",
    "\n",
    "print('done...')"
   ]
  },
  {
   "cell_type": "code",
   "execution_count": 0,
   "metadata": {
    "colab": {},
    "colab_type": "code",
    "id": "lk88-JyY6K9y"
   },
   "outputs": [],
   "source": []
  },
  {
   "cell_type": "code",
   "execution_count": 21,
   "metadata": {
    "colab": {
     "base_uri": "https://localhost:8080/",
     "height": 34
    },
    "colab_type": "code",
    "id": "jU6tW0rB6NU9",
    "outputId": "888f97cb-8cc0-4909-c9fe-5e77a547fc66"
   },
   "outputs": [
    {
     "name": "stdout",
     "output_type": "stream",
     "text": [
      "done...\n"
     ]
    }
   ],
   "source": [
    "# split into train and test/validation\n",
    "X_train, X_test_valid, y_train, y_test_valid = train_test_split(X, y, test_size=0.4, random_state=42)\n",
    "\n",
    "# split into test and validation\n",
    "X_test,X_validation,y_test,y_validation=train_test_split(X_test_valid,y_test_valid,test_size=0.375)\n",
    "\n",
    "print('done...')"
   ]
  },
  {
   "cell_type": "code",
   "execution_count": 22,
   "metadata": {
    "colab": {
     "base_uri": "https://localhost:8080/",
     "height": 68
    },
    "colab_type": "code",
    "id": "KnKcl5ez6Qvp",
    "outputId": "76d991f1-c4da-4c60-b7e2-25d85e285757"
   },
   "outputs": [
    {
     "name": "stdout",
     "output_type": "stream",
     "text": [
      "train size of rows:22987 and columns:18\n",
      "train size of rows:9578 and columns:18\n",
      "train size of rows:5747 and columns:18\n"
     ]
    }
   ],
   "source": [
    "# size of my batches of data\n",
    "print(\"train size of rows:{} and columns:{}\".format(*X_train.shape))\n",
    "print(\"train size of rows:{} and columns:{}\".format(*X_test.shape))\n",
    "print(\"train size of rows:{} and columns:{}\".format(*X_validation.shape))"
   ]
  },
  {
   "cell_type": "markdown",
   "metadata": {
    "colab_type": "text",
    "id": "l-EsqBDO6WGg"
   },
   "source": [
    "#### custom mappings we can use"
   ]
  },
  {
   "cell_type": "code",
   "execution_count": 0,
   "metadata": {
    "colab": {},
    "colab_type": "code",
    "id": "yqCFbalv6W_2"
   },
   "outputs": [],
   "source": [
    "qualification_to_number={'First Degree or HND':2, 'MSc, MBA and PhD':3, 'Non-University Education':1}\n",
    "\n",
    "states_to_tribe={\n",
    "    'ABIA': \"IGBO\",\n",
    "    'ADAMAWA':\"HAUSA\",\n",
    "    'AKWA IBOM':\"IGBO\",\n",
    "    'ANAMBRA':\"IGBO\",\n",
    "    'BAUCHI':\"IGBO\",\n",
    "    'BAYELSA':\"IGBO\",\n",
    "    'BENUE':\"HAUSA\",\n",
    "    'BORNO':\"HAUSA\",\n",
    "    'CROSS RIVER':\"IGBO\",\n",
    "    'DELTA':\"IGBO\",\n",
    "    'EBONYI':\"IGBO\",\n",
    "    'EDO':\"IGBO\",\n",
    "    'EKITI':\"YORUBA\",\n",
    "    'ENUGU':\"IGBO\",\n",
    "    'FCT':\"HAUSA\",\n",
    "    'GOMBE':\"HAUSA\",\n",
    "    'IMO':\"IGBO\",\n",
    "    'JIGAWA':\"HAUSA\",\n",
    "    'KADUNA':\"HAUSA\",\n",
    "    'KANO':'HAUSA',\n",
    "    'KATSINA':\"HAUSA\",\n",
    "    'KEBBI':\"HAUSA\",\n",
    "    'KOGI':\"HAUSA\",\n",
    "    'KWARA':\"HAUSA\",\n",
    "    \"LAGOS\":\"YORUBA\",\n",
    "    'NASSARAWA':\"HAUSA\",\n",
    "    'NIGER':\"HAUSA\",\n",
    "     'OGUN':\"YORUBA\",\n",
    "     'ONDO':\"YORUBA\",\n",
    "     'OSUN':\"YORUBA\",\n",
    "     'OYO':\"YORUBA\",\n",
    "     'PLATEAU':\"HAUSA\",\n",
    "     'RIVERS':\"IGBO\",\n",
    "     'SOKOTO':\"HAUSA\",\n",
    "     'TARABA':\"HAUSA\",\n",
    "     'YOBE':\"HAUSA\",\n",
    "     'ZAMFARA':\"HAUSA\"\n",
    "    }\n",
    "\n",
    "def bucket_age(year_of_birth):\n",
    "    age=2019-int(year_of_birth)\n",
    "    if age<21:\n",
    "        return \"less than 21\"\n",
    "    elif age>=21 and age<28:\n",
    "        return \"21-27\"\n",
    "    elif age>=28 and age<36:\n",
    "        return \"28-35\"\n",
    "    elif age>=36 and age<50:\n",
    "        return \"36-50\"\n",
    "    else:\n",
    "        return \"greater than 50\"\n",
    "\n",
    "def bucket_experience(year_of_exp):\n",
    "    years_exp=2019-int(year_of_exp)\n",
    "    if years_exp<5:\n",
    "        return \"1-4\"\n",
    "    elif years_exp>=5 and years_exp<10:\n",
    "        return \"5-9\"\n",
    "    elif years_exp>=10 and years_exp<15:\n",
    "        return \"10-14\"\n",
    "    elif years_exp>=15 and years_exp<20:\n",
    "        return \"15-20\"\n",
    "    else:\n",
    "        return \"greater than 20\""
   ]
  },
  {
   "cell_type": "code",
   "execution_count": 24,
   "metadata": {
    "colab": {
     "base_uri": "https://localhost:8080/",
     "height": 34
    },
    "colab_type": "code",
    "id": "bvU8gBTV6hUp",
    "outputId": "377a6264-ca09-4112-c2b2-e0424a9c7d1e"
   },
   "outputs": [
    {
     "data": {
      "text/plain": [
       "37"
      ]
     },
     "execution_count": 24,
     "metadata": {
      "tags": []
     },
     "output_type": "execute_result"
    }
   ],
   "source": [
    "len(states_to_tribe)"
   ]
  },
  {
   "cell_type": "markdown",
   "metadata": {
    "colab_type": "text",
    "id": "fYtxTWAM6sQT"
   },
   "source": [
    "## Specify my data transformations"
   ]
  },
  {
   "cell_type": "code",
   "execution_count": 25,
   "metadata": {
    "colab": {
     "base_uri": "https://localhost:8080/",
     "height": 770
    },
    "colab_type": "code",
    "id": "zZNwKAnA6tf_",
    "outputId": "8532ccf5-6a33-4d3f-8316-788baca4a883"
   },
   "outputs": [
    {
     "data": {
      "text/html": [
       "<div>\n",
       "<style scoped>\n",
       "    .dataframe tbody tr th:only-of-type {\n",
       "        vertical-align: middle;\n",
       "    }\n",
       "\n",
       "    .dataframe tbody tr th {\n",
       "        vertical-align: top;\n",
       "    }\n",
       "\n",
       "    .dataframe thead th {\n",
       "        text-align: right;\n",
       "    }\n",
       "</style>\n",
       "<table border=\"1\" class=\"dataframe\">\n",
       "  <thead>\n",
       "    <tr style=\"text-align: right;\">\n",
       "      <th></th>\n",
       "      <th>EmployeeNo</th>\n",
       "      <th>Division</th>\n",
       "      <th>Qualification</th>\n",
       "      <th>Gender</th>\n",
       "      <th>Channel_of_Recruitment</th>\n",
       "      <th>Trainings_Attended</th>\n",
       "      <th>Year_of_birth</th>\n",
       "      <th>Last_performance_score</th>\n",
       "      <th>Year_of_recruitment</th>\n",
       "      <th>Targets_met</th>\n",
       "      <th>Previous_Award</th>\n",
       "      <th>Training_score_average</th>\n",
       "      <th>State_Of_Origin</th>\n",
       "      <th>Foreign_schooled</th>\n",
       "      <th>Marital_Status</th>\n",
       "      <th>Past_Disciplinary_Action</th>\n",
       "      <th>Previous_IntraDepartmental_Movement</th>\n",
       "      <th>No_of_previous_employers</th>\n",
       "      <th>Promoted_or_Not</th>\n",
       "    </tr>\n",
       "  </thead>\n",
       "  <tbody>\n",
       "    <tr>\n",
       "      <th>0</th>\n",
       "      <td>YAK/S/00001</td>\n",
       "      <td>Commercial Sales and Marketing</td>\n",
       "      <td>MSc, MBA and PhD</td>\n",
       "      <td>Female</td>\n",
       "      <td>Direct Internal process</td>\n",
       "      <td>2</td>\n",
       "      <td>1986</td>\n",
       "      <td>12.5</td>\n",
       "      <td>2011</td>\n",
       "      <td>1</td>\n",
       "      <td>0</td>\n",
       "      <td>41</td>\n",
       "      <td>ANAMBRA</td>\n",
       "      <td>No</td>\n",
       "      <td>Married</td>\n",
       "      <td>No</td>\n",
       "      <td>No</td>\n",
       "      <td>0</td>\n",
       "      <td>0</td>\n",
       "    </tr>\n",
       "    <tr>\n",
       "      <th>1</th>\n",
       "      <td>YAK/S/00002</td>\n",
       "      <td>Customer Support and Field Operations</td>\n",
       "      <td>First Degree or HND</td>\n",
       "      <td>Male</td>\n",
       "      <td>Agency and others</td>\n",
       "      <td>2</td>\n",
       "      <td>1991</td>\n",
       "      <td>12.5</td>\n",
       "      <td>2015</td>\n",
       "      <td>0</td>\n",
       "      <td>0</td>\n",
       "      <td>52</td>\n",
       "      <td>ANAMBRA</td>\n",
       "      <td>Yes</td>\n",
       "      <td>Married</td>\n",
       "      <td>No</td>\n",
       "      <td>No</td>\n",
       "      <td>0</td>\n",
       "      <td>0</td>\n",
       "    </tr>\n",
       "    <tr>\n",
       "      <th>2</th>\n",
       "      <td>YAK/S/00003</td>\n",
       "      <td>Commercial Sales and Marketing</td>\n",
       "      <td>First Degree or HND</td>\n",
       "      <td>Male</td>\n",
       "      <td>Direct Internal process</td>\n",
       "      <td>2</td>\n",
       "      <td>1987</td>\n",
       "      <td>7.5</td>\n",
       "      <td>2012</td>\n",
       "      <td>0</td>\n",
       "      <td>0</td>\n",
       "      <td>42</td>\n",
       "      <td>KATSINA</td>\n",
       "      <td>Yes</td>\n",
       "      <td>Married</td>\n",
       "      <td>No</td>\n",
       "      <td>No</td>\n",
       "      <td>0</td>\n",
       "      <td>0</td>\n",
       "    </tr>\n",
       "    <tr>\n",
       "      <th>3</th>\n",
       "      <td>YAK/S/00004</td>\n",
       "      <td>Commercial Sales and Marketing</td>\n",
       "      <td>First Degree or HND</td>\n",
       "      <td>Male</td>\n",
       "      <td>Agency and others</td>\n",
       "      <td>3</td>\n",
       "      <td>1982</td>\n",
       "      <td>2.5</td>\n",
       "      <td>2009</td>\n",
       "      <td>0</td>\n",
       "      <td>0</td>\n",
       "      <td>42</td>\n",
       "      <td>NIGER</td>\n",
       "      <td>Yes</td>\n",
       "      <td>Single</td>\n",
       "      <td>No</td>\n",
       "      <td>No</td>\n",
       "      <td>1</td>\n",
       "      <td>0</td>\n",
       "    </tr>\n",
       "    <tr>\n",
       "      <th>4</th>\n",
       "      <td>YAK/S/00006</td>\n",
       "      <td>Information and Strategy</td>\n",
       "      <td>First Degree or HND</td>\n",
       "      <td>Male</td>\n",
       "      <td>Direct Internal process</td>\n",
       "      <td>3</td>\n",
       "      <td>1990</td>\n",
       "      <td>7.5</td>\n",
       "      <td>2012</td>\n",
       "      <td>0</td>\n",
       "      <td>0</td>\n",
       "      <td>77</td>\n",
       "      <td>AKWA IBOM</td>\n",
       "      <td>Yes</td>\n",
       "      <td>Married</td>\n",
       "      <td>No</td>\n",
       "      <td>No</td>\n",
       "      <td>1</td>\n",
       "      <td>0</td>\n",
       "    </tr>\n",
       "    <tr>\n",
       "      <th>5</th>\n",
       "      <td>YAK/S/00007</td>\n",
       "      <td>Customer Support and Field Operations</td>\n",
       "      <td>First Degree or HND</td>\n",
       "      <td>Female</td>\n",
       "      <td>Agency and others</td>\n",
       "      <td>2</td>\n",
       "      <td>1990</td>\n",
       "      <td>7.5</td>\n",
       "      <td>2014</td>\n",
       "      <td>0</td>\n",
       "      <td>0</td>\n",
       "      <td>51</td>\n",
       "      <td>ENUGU</td>\n",
       "      <td>Yes</td>\n",
       "      <td>Married</td>\n",
       "      <td>No</td>\n",
       "      <td>Yes</td>\n",
       "      <td>1</td>\n",
       "      <td>0</td>\n",
       "    </tr>\n",
       "    <tr>\n",
       "      <th>6</th>\n",
       "      <td>YAK/S/00008</td>\n",
       "      <td>Customer Support and Field Operations</td>\n",
       "      <td>MSc, MBA and PhD</td>\n",
       "      <td>Male</td>\n",
       "      <td>Direct Internal process</td>\n",
       "      <td>2</td>\n",
       "      <td>1988</td>\n",
       "      <td>7.5</td>\n",
       "      <td>2013</td>\n",
       "      <td>0</td>\n",
       "      <td>0</td>\n",
       "      <td>55</td>\n",
       "      <td>OYO</td>\n",
       "      <td>No</td>\n",
       "      <td>Single</td>\n",
       "      <td>No</td>\n",
       "      <td>No</td>\n",
       "      <td>1</td>\n",
       "      <td>0</td>\n",
       "    </tr>\n",
       "    <tr>\n",
       "      <th>7</th>\n",
       "      <td>YAK/S/00009</td>\n",
       "      <td>Information and Strategy</td>\n",
       "      <td>First Degree or HND</td>\n",
       "      <td>Male</td>\n",
       "      <td>Agency and others</td>\n",
       "      <td>2</td>\n",
       "      <td>1993</td>\n",
       "      <td>10.0</td>\n",
       "      <td>2014</td>\n",
       "      <td>0</td>\n",
       "      <td>0</td>\n",
       "      <td>75</td>\n",
       "      <td>LAGOS</td>\n",
       "      <td>Yes</td>\n",
       "      <td>Married</td>\n",
       "      <td>No</td>\n",
       "      <td>No</td>\n",
       "      <td>0</td>\n",
       "      <td>0</td>\n",
       "    </tr>\n",
       "    <tr>\n",
       "      <th>8</th>\n",
       "      <td>YAK/S/00010</td>\n",
       "      <td>Commercial Sales and Marketing</td>\n",
       "      <td>MSc, MBA and PhD</td>\n",
       "      <td>Male</td>\n",
       "      <td>Direct Internal process</td>\n",
       "      <td>2</td>\n",
       "      <td>1989</td>\n",
       "      <td>12.5</td>\n",
       "      <td>2014</td>\n",
       "      <td>1</td>\n",
       "      <td>0</td>\n",
       "      <td>46</td>\n",
       "      <td>ONDO</td>\n",
       "      <td>Yes</td>\n",
       "      <td>Married</td>\n",
       "      <td>No</td>\n",
       "      <td>No</td>\n",
       "      <td>0</td>\n",
       "      <td>0</td>\n",
       "    </tr>\n",
       "    <tr>\n",
       "      <th>9</th>\n",
       "      <td>YAK/S/00012</td>\n",
       "      <td>Commercial Sales and Marketing</td>\n",
       "      <td>First Degree or HND</td>\n",
       "      <td>Female</td>\n",
       "      <td>Direct Internal process</td>\n",
       "      <td>2</td>\n",
       "      <td>1986</td>\n",
       "      <td>12.5</td>\n",
       "      <td>2016</td>\n",
       "      <td>1</td>\n",
       "      <td>0</td>\n",
       "      <td>42</td>\n",
       "      <td>LAGOS</td>\n",
       "      <td>Yes</td>\n",
       "      <td>Married</td>\n",
       "      <td>No</td>\n",
       "      <td>No</td>\n",
       "      <td>0</td>\n",
       "      <td>1</td>\n",
       "    </tr>\n",
       "  </tbody>\n",
       "</table>\n",
       "</div>"
      ],
      "text/plain": [
       "    EmployeeNo  ... Promoted_or_Not\n",
       "0  YAK/S/00001  ...               0\n",
       "1  YAK/S/00002  ...               0\n",
       "2  YAK/S/00003  ...               0\n",
       "3  YAK/S/00004  ...               0\n",
       "4  YAK/S/00006  ...               0\n",
       "5  YAK/S/00007  ...               0\n",
       "6  YAK/S/00008  ...               0\n",
       "7  YAK/S/00009  ...               0\n",
       "8  YAK/S/00010  ...               0\n",
       "9  YAK/S/00012  ...               1\n",
       "\n",
       "[10 rows x 19 columns]"
      ]
     },
     "execution_count": 25,
     "metadata": {
      "tags": []
     },
     "output_type": "execute_result"
    }
   ],
   "source": [
    "from sklearn.base import BaseEstimator,TransformerMixin\n",
    "full_dataset.head(10)"
   ]
  },
  {
   "cell_type": "code",
   "execution_count": 26,
   "metadata": {
    "colab": {
     "base_uri": "https://localhost:8080/",
     "height": 34
    },
    "colab_type": "code",
    "id": "jN4IJaq46v0z",
    "outputId": "a049e90f-b07d-4fcb-a20c-257fa0519652"
   },
   "outputs": [
    {
     "name": "stdout",
     "output_type": "stream",
     "text": [
      "done...\n"
     ]
    }
   ],
   "source": [
    "qualification_binariser=LabelBinarizer()\n",
    "not_biniarize=['Qualification',\"Trainings_Attended\",\"Last_performance_score\",\"Training_score_average\"]\n",
    "\n",
    "def transform_data(input_dataset,is_training=\"true\"):\n",
    "    #firstsly drop the id column\n",
    "#     input_data=input_data.drop(['EmployeeNo'],1)\n",
    "    \n",
    "    input_data=input_dataset.copy()\n",
    "    #map the qualification\n",
    "    input_data['Qualification']=input_data['Qualification'].fillna(\"Non-University Education\")\n",
    "    input_data['Qualification']=input_data['Qualification'].map(qualification_to_number)\n",
    "    \n",
    "    if is_training:       \n",
    "        #Floor the trainings attended at 6\n",
    "        input_data['Trainings_Attended']=input_data['Trainings_Attended'].map(lambda x: x if x<5 else 6)\n",
    "    \n",
    "    #roof the number of trainings attended at 5 for only training data i.e if the person has attended > 5 trainings make 5 to force the model to understand that 5 is a lot pf trainings\n",
    "    if is_training:\n",
    "        input_data['Qualification'].map(lambda x: 5 if x>5 else x )  \n",
    "        \n",
    "    #temporarily testing if bucketing the age is going to give me better data\n",
    "    input_data['Year_of_birth']=input_data['Year_of_birth'].map(bucket_age)\n",
    "    \n",
    "    #temporarily testing if bucketing experience is going to help\n",
    "    input_data['Year_of_recruitment']=input_data['Year_of_recruitment'].map(bucket_experience)\n",
    "    \n",
    "    #map the states respectively to the three geo zones\n",
    "    input_data['State_Of_Origin']=full_dataset['State_Of_Origin'].map(lambda x:states_to_tribe.get(x,\"YORUBA\"))\n",
    "    \n",
    "    return input_data\n",
    "  \n",
    "print('done...')"
   ]
  }
 ],
 "metadata": {
  "colab": {
   "name": "DSN.ipynb",
   "provenance": []
  },
  "kernelspec": {
   "display_name": "Python 3",
   "language": "python",
   "name": "python3"
  },
  "language_info": {
   "codemirror_mode": {
    "name": "ipython",
    "version": 3
   },
   "file_extension": ".py",
   "mimetype": "text/x-python",
   "name": "python",
   "nbconvert_exporter": "python",
   "pygments_lexer": "ipython3",
   "version": "3.7.1"
  }
 },
 "nbformat": 4,
 "nbformat_minor": 1
}
